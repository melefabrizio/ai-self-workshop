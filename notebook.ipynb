{
 "cells": [
  {
   "cell_type": "markdown",
   "id": "d2f556af-773d-441e-843b-79e10b9a4b72",
   "metadata": {},
   "source": [
    "# RicettaBot\n",
    "\n",
    "Ovvero il RAG che ti fa i calcoli (\"calcoli\" è un parolone).\n",
    "\n",
    "### Cosa stiamo per fare\n",
    "\n",
    "Questo è un progettino che sfrutta LangChain e LLM per risolvere dei semplici calcoli matematici in modo conversazionale. È un RAG perché i calcoli sono descritti in un file separato, su cui agisce un **retriever** che fornisce al LLM le formule più adatte alla richiesta dell'utente.\n",
    "\n",
    "Utilizziamo due LLM, uno per fare un preprocessing della richiesta, e uno per eseguire il calcolo vero e proprio.\n",
    "Questo ci da più flessibilità, e ci permette in futuro di fare un eventuale fine-tuning su task più specifici.\n",
    "\n",
    "Lo schema generale è:\n",
    "\n",
    "Richiesta -> Retriever + DB Formule -> 2 x LLM -> Risposta\n",
    "\n",
    "### Strumenti usati\n",
    "\n",
    "Questa demo utilizza LangChain, Qdrant (pronunciato _quadrant_), Amazon Bedrock per accedere a Claude v2.1, e Cohere per calcolare gli embedding.\n",
    "\n",
    "\n",
    "## Preparazione"
   ]
  },
  {
   "cell_type": "code",
   "outputs": [
    {
     "name": "stdout",
     "output_type": "stream",
     "text": [
      "Requirement already satisfied: langchain in /Users/fabrizio/.asdf/installs/python/3.11.1/lib/python3.11/site-packages (0.1.4)\r\n",
      "Requirement already satisfied: langchain-community in /Users/fabrizio/.asdf/installs/python/3.11.1/lib/python3.11/site-packages (0.0.16)\r\n",
      "Requirement already satisfied: qdrant-client in /Users/fabrizio/.asdf/installs/python/3.11.1/lib/python3.11/site-packages (1.7.1)\r\n",
      "Requirement already satisfied: boto3 in /Users/fabrizio/.asdf/installs/python/3.11.1/lib/python3.11/site-packages (1.34.31)\r\n",
      "Requirement already satisfied: cohere in /Users/fabrizio/.asdf/installs/python/3.11.1/lib/python3.11/site-packages (4.45)\r\n",
      "Requirement already satisfied: grandalf in /Users/fabrizio/.asdf/installs/python/3.11.1/lib/python3.11/site-packages (0.8)\r\n",
      "Requirement already satisfied: PyYAML>=5.3 in /Users/fabrizio/.asdf/installs/python/3.11.1/lib/python3.11/site-packages (from langchain) (6.0.1)\r\n",
      "Requirement already satisfied: SQLAlchemy<3,>=1.4 in /Users/fabrizio/.asdf/installs/python/3.11.1/lib/python3.11/site-packages (from langchain) (2.0.25)\r\n",
      "Requirement already satisfied: aiohttp<4.0.0,>=3.8.3 in /Users/fabrizio/.asdf/installs/python/3.11.1/lib/python3.11/site-packages (from langchain) (3.9.3)\r\n",
      "Requirement already satisfied: dataclasses-json<0.7,>=0.5.7 in /Users/fabrizio/.asdf/installs/python/3.11.1/lib/python3.11/site-packages (from langchain) (0.6.3)\r\n",
      "Requirement already satisfied: jsonpatch<2.0,>=1.33 in /Users/fabrizio/.asdf/installs/python/3.11.1/lib/python3.11/site-packages (from langchain) (1.33)\r\n",
      "Requirement already satisfied: langchain-core<0.2,>=0.1.16 in /Users/fabrizio/.asdf/installs/python/3.11.1/lib/python3.11/site-packages (from langchain) (0.1.17)\r\n",
      "Requirement already satisfied: langsmith<0.1,>=0.0.83 in /Users/fabrizio/.asdf/installs/python/3.11.1/lib/python3.11/site-packages (from langchain) (0.0.85)\r\n",
      "Requirement already satisfied: numpy<2,>=1 in /Users/fabrizio/.asdf/installs/python/3.11.1/lib/python3.11/site-packages (from langchain) (1.24.1)\r\n",
      "Requirement already satisfied: pydantic<3,>=1 in /Users/fabrizio/.asdf/installs/python/3.11.1/lib/python3.11/site-packages (from langchain) (2.6.0)\r\n",
      "Requirement already satisfied: requests<3,>=2 in /Users/fabrizio/.asdf/installs/python/3.11.1/lib/python3.11/site-packages (from langchain) (2.28.1)\r\n",
      "Requirement already satisfied: tenacity<9.0.0,>=8.1.0 in /Users/fabrizio/.asdf/installs/python/3.11.1/lib/python3.11/site-packages (from langchain) (8.2.3)\r\n",
      "Requirement already satisfied: grpcio>=1.41.0 in /Users/fabrizio/.asdf/installs/python/3.11.1/lib/python3.11/site-packages (from qdrant-client) (1.60.0)\r\n",
      "Requirement already satisfied: grpcio-tools>=1.41.0 in /Users/fabrizio/.asdf/installs/python/3.11.1/lib/python3.11/site-packages (from qdrant-client) (1.60.0)\r\n",
      "Requirement already satisfied: httpx>=0.14.0 in /Users/fabrizio/.asdf/installs/python/3.11.1/lib/python3.11/site-packages (from httpx[http2]>=0.14.0->qdrant-client) (0.26.0)\r\n",
      "Requirement already satisfied: portalocker<3.0.0,>=2.7.0 in /Users/fabrizio/.asdf/installs/python/3.11.1/lib/python3.11/site-packages (from qdrant-client) (2.8.2)\r\n",
      "Requirement already satisfied: urllib3<3,>=1.26.14 in /Users/fabrizio/.asdf/installs/python/3.11.1/lib/python3.11/site-packages (from qdrant-client) (1.26.18)\r\n",
      "Requirement already satisfied: botocore<1.35.0,>=1.34.31 in /Users/fabrizio/.asdf/installs/python/3.11.1/lib/python3.11/site-packages (from boto3) (1.34.31)\r\n",
      "Requirement already satisfied: jmespath<2.0.0,>=0.7.1 in /Users/fabrizio/.asdf/installs/python/3.11.1/lib/python3.11/site-packages (from boto3) (1.0.1)\r\n",
      "Requirement already satisfied: s3transfer<0.11.0,>=0.10.0 in /Users/fabrizio/.asdf/installs/python/3.11.1/lib/python3.11/site-packages (from boto3) (0.10.0)\r\n",
      "Requirement already satisfied: backoff<3.0,>=2.0 in /Users/fabrizio/.asdf/installs/python/3.11.1/lib/python3.11/site-packages (from cohere) (2.2.1)\r\n",
      "Requirement already satisfied: fastavro<2.0,>=1.8 in /Users/fabrizio/.asdf/installs/python/3.11.1/lib/python3.11/site-packages (from cohere) (1.9.3)\r\n",
      "Requirement already satisfied: importlib_metadata<7.0,>=6.0 in /Users/fabrizio/.asdf/installs/python/3.11.1/lib/python3.11/site-packages (from cohere) (6.11.0)\r\n",
      "Requirement already satisfied: pyparsing in /Users/fabrizio/.asdf/installs/python/3.11.1/lib/python3.11/site-packages (from grandalf) (3.0.9)\r\n",
      "Requirement already satisfied: aiosignal>=1.1.2 in /Users/fabrizio/.asdf/installs/python/3.11.1/lib/python3.11/site-packages (from aiohttp<4.0.0,>=3.8.3->langchain) (1.3.1)\r\n",
      "Requirement already satisfied: attrs>=17.3.0 in /Users/fabrizio/.asdf/installs/python/3.11.1/lib/python3.11/site-packages (from aiohttp<4.0.0,>=3.8.3->langchain) (23.2.0)\r\n",
      "Requirement already satisfied: frozenlist>=1.1.1 in /Users/fabrizio/.asdf/installs/python/3.11.1/lib/python3.11/site-packages (from aiohttp<4.0.0,>=3.8.3->langchain) (1.4.1)\r\n",
      "Requirement already satisfied: multidict<7.0,>=4.5 in /Users/fabrizio/.asdf/installs/python/3.11.1/lib/python3.11/site-packages (from aiohttp<4.0.0,>=3.8.3->langchain) (6.0.4)\r\n",
      "Requirement already satisfied: yarl<2.0,>=1.0 in /Users/fabrizio/.asdf/installs/python/3.11.1/lib/python3.11/site-packages (from aiohttp<4.0.0,>=3.8.3->langchain) (1.9.4)\r\n",
      "Requirement already satisfied: python-dateutil<3.0.0,>=2.1 in /Users/fabrizio/.asdf/installs/python/3.11.1/lib/python3.11/site-packages (from botocore<1.35.0,>=1.34.31->boto3) (2.8.2)\r\n",
      "Requirement already satisfied: marshmallow<4.0.0,>=3.18.0 in /Users/fabrizio/.asdf/installs/python/3.11.1/lib/python3.11/site-packages (from dataclasses-json<0.7,>=0.5.7->langchain) (3.20.2)\r\n",
      "Requirement already satisfied: typing-inspect<1,>=0.4.0 in /Users/fabrizio/.asdf/installs/python/3.11.1/lib/python3.11/site-packages (from dataclasses-json<0.7,>=0.5.7->langchain) (0.9.0)\r\n",
      "Requirement already satisfied: protobuf<5.0dev,>=4.21.6 in /Users/fabrizio/.asdf/installs/python/3.11.1/lib/python3.11/site-packages (from grpcio-tools>=1.41.0->qdrant-client) (4.25.2)\r\n",
      "Requirement already satisfied: setuptools in /Users/fabrizio/.asdf/installs/python/3.11.1/lib/python3.11/site-packages (from grpcio-tools>=1.41.0->qdrant-client) (65.5.0)\r\n",
      "Requirement already satisfied: anyio in /Users/fabrizio/.asdf/installs/python/3.11.1/lib/python3.11/site-packages (from httpx>=0.14.0->httpx[http2]>=0.14.0->qdrant-client) (4.2.0)\r\n",
      "Requirement already satisfied: certifi in /Users/fabrizio/.asdf/installs/python/3.11.1/lib/python3.11/site-packages (from httpx>=0.14.0->httpx[http2]>=0.14.0->qdrant-client) (2022.12.7)\r\n",
      "Requirement already satisfied: httpcore==1.* in /Users/fabrizio/.asdf/installs/python/3.11.1/lib/python3.11/site-packages (from httpx>=0.14.0->httpx[http2]>=0.14.0->qdrant-client) (1.0.2)\r\n",
      "Requirement already satisfied: idna in /Users/fabrizio/.asdf/installs/python/3.11.1/lib/python3.11/site-packages (from httpx>=0.14.0->httpx[http2]>=0.14.0->qdrant-client) (3.4)\r\n",
      "Requirement already satisfied: sniffio in /Users/fabrizio/.asdf/installs/python/3.11.1/lib/python3.11/site-packages (from httpx>=0.14.0->httpx[http2]>=0.14.0->qdrant-client) (1.3.0)\r\n",
      "Requirement already satisfied: h11<0.15,>=0.13 in /Users/fabrizio/.asdf/installs/python/3.11.1/lib/python3.11/site-packages (from httpcore==1.*->httpx>=0.14.0->httpx[http2]>=0.14.0->qdrant-client) (0.14.0)\r\n",
      "Requirement already satisfied: h2<5,>=3 in /Users/fabrizio/.asdf/installs/python/3.11.1/lib/python3.11/site-packages (from httpx[http2]>=0.14.0->qdrant-client) (4.1.0)\r\n",
      "Requirement already satisfied: zipp>=0.5 in /Users/fabrizio/.asdf/installs/python/3.11.1/lib/python3.11/site-packages (from importlib_metadata<7.0,>=6.0->cohere) (3.17.0)\r\n",
      "Requirement already satisfied: jsonpointer>=1.9 in /Users/fabrizio/.asdf/installs/python/3.11.1/lib/python3.11/site-packages (from jsonpatch<2.0,>=1.33->langchain) (2.4)\r\n",
      "Requirement already satisfied: packaging<24.0,>=23.2 in /Users/fabrizio/.asdf/installs/python/3.11.1/lib/python3.11/site-packages (from langchain-core<0.2,>=0.1.16->langchain) (23.2)\r\n",
      "Requirement already satisfied: annotated-types>=0.4.0 in /Users/fabrizio/.asdf/installs/python/3.11.1/lib/python3.11/site-packages (from pydantic<3,>=1->langchain) (0.6.0)\r\n",
      "Requirement already satisfied: pydantic-core==2.16.1 in /Users/fabrizio/.asdf/installs/python/3.11.1/lib/python3.11/site-packages (from pydantic<3,>=1->langchain) (2.16.1)\r\n",
      "Requirement already satisfied: typing-extensions>=4.6.1 in /Users/fabrizio/.asdf/installs/python/3.11.1/lib/python3.11/site-packages (from pydantic<3,>=1->langchain) (4.9.0)\r\n",
      "Requirement already satisfied: charset-normalizer<3,>=2 in /Users/fabrizio/.asdf/installs/python/3.11.1/lib/python3.11/site-packages (from requests<3,>=2->langchain) (2.1.1)\r\n",
      "Requirement already satisfied: hyperframe<7,>=6.0 in /Users/fabrizio/.asdf/installs/python/3.11.1/lib/python3.11/site-packages (from h2<5,>=3->httpx[http2]>=0.14.0->qdrant-client) (6.0.1)\r\n",
      "Requirement already satisfied: hpack<5,>=4.0 in /Users/fabrizio/.asdf/installs/python/3.11.1/lib/python3.11/site-packages (from h2<5,>=3->httpx[http2]>=0.14.0->qdrant-client) (4.0.0)\r\n",
      "Requirement already satisfied: six>=1.5 in /Users/fabrizio/.asdf/installs/python/3.11.1/lib/python3.11/site-packages (from python-dateutil<3.0.0,>=2.1->botocore<1.35.0,>=1.34.31->boto3) (1.16.0)\r\n",
      "Requirement already satisfied: mypy-extensions>=0.3.0 in /Users/fabrizio/.asdf/installs/python/3.11.1/lib/python3.11/site-packages (from typing-inspect<1,>=0.4.0->dataclasses-json<0.7,>=0.5.7->langchain) (1.0.0)\r\n",
      "Reshimming asdf python...\r\n"
     ]
    }
   ],
   "source": [
    "! pip install langchain langchain-community qdrant-client boto3 cohere grandalf\n",
    "\n",
    "import boto3\n",
    "import os\n",
    "\n",
    "os.environ['COHERE_API_KEY'] = \"METTI QUI LA TUA CHIAVE\""
   ],
   "metadata": {
    "collapsed": false,
    "ExecuteTime": {
     "end_time": "2024-01-31T09:38:03.520021Z",
     "start_time": "2024-01-31T09:37:59.450771Z"
    }
   },
   "id": "4beb19622b47b026",
   "execution_count": 14
  },
  {
   "cell_type": "markdown",
   "source": [
    "A questo punto prepariamo il client di Amazon Bedrock. Nota bene: è necessario che boto3 sia autenticato e abbia i permessi per accedere a Bedrock!"
   ],
   "metadata": {
    "collapsed": false
   },
   "id": "643d932571bc34b0"
  },
  {
   "cell_type": "code",
   "outputs": [],
   "source": [
    "from langchain_community.llms import Bedrock\n",
    "\n",
    "def bedrock(model_name=\"anthropic.claude-v2:1\", temperature=0.1):\n",
    "    client = boto3.client('bedrock-runtime', region_name=\"us-west-2\")\n",
    "    model = Bedrock(client=client,\n",
    "                    model_id=model_name,\n",
    "                    model_kwargs={\"temperature\": temperature, \"max_tokens_to_sample\": 1000})\n",
    "    return model"
   ],
   "metadata": {
    "collapsed": false,
    "ExecuteTime": {
     "end_time": "2024-01-31T09:38:37.050009Z",
     "start_time": "2024-01-31T09:38:37.048466Z"
    }
   },
   "id": "accd99ceaec2e671",
   "execution_count": 15
  },
  {
   "cell_type": "markdown",
   "source": [
    "## Dati\n",
    "\n",
    "Scriviamo le nostre formule:\n"
   ],
   "metadata": {
    "collapsed": false
   },
   "id": "f0db42cd747b8f6e"
  },
  {
   "cell_type": "code",
   "outputs": [],
   "source": [
    "formule = \"\"\"\n",
    "FORMULA\n",
    "INTENTO: Calcolo di acqua per fare l pane partendo dalla farina\n",
    "INPUT: X = kg di farina\n",
    "OUTPUT: acqua = X * 0.6 litri\n",
    "END FORMULA\n",
    "\n",
    "\n",
    "FORMULA\n",
    "INTENTO: calcolo di zucchero e gelatina per la crema pasticcera\n",
    "INPUT: X = litri di latte\n",
    "OUTPUT:\n",
    "zucchero = X * 100 g\n",
    "gelatina = X * 5 g\n",
    "END FORMULA\n",
    "\n",
    "FORMULA\n",
    "INTENTO: Calcolo di quanto lievito serve per il pane\n",
    "INPUT: X = kg di farina\n",
    "OUTPUT:\n",
    "lievito = X * 5 g\n",
    "END FORMULA\n",
    "\n",
    "FORMULA\n",
    "INTENTO: Calcolare quanto pangrattato serve per le cotolette\n",
    "INPUT: X = numero di cotolette\n",
    "OUTPUT: pangrattato = X * 50 g\n",
    "END FORMULA\n",
    "\n",
    "FORMULA\n",
    "INTENTO: calcolare quanto deve cuocere il risotto\n",
    "INPUT: X = kg di riso\n",
    "OUTPUT: Se X < 2, il tempo di cottura è di 15 minuti.\n",
    "Se X > 2, il tempo di cottura è di 20 minuti.\n",
    "END FORMULA\n",
    "\n",
    "FORMULA\n",
    "INTENTO: Calcolo di quanta farina serve per fare il pane in base al numero di panini\n",
    "INPUT: X = numero di panini\n",
    "OUTPUT: farina = X * 200 g\n",
    "END FORMULA\n",
    "\n",
    "FORMULA\n",
    "INTENTO: Calcolare quanti funghi porcini servono per fare il risotto ai funghi porcini partendo dal riso\n",
    "INPUT: X = kg di riso\n",
    "OUTPUT: funghi porcini = X * 0.2 kg\n",
    "END FORMULA\n",
    "\n",
    "FORMULA\n",
    "INTENTO: Calcolo di quante mele servono per una torta di mele\n",
    "INPUT: X = numero di persone che devono mangiare la torta\n",
    "OUTPUT: mele = X * 2 mele\n",
    "END FORMULA\n",
    "\n",
    "FORMULA\n",
    "INTENTO: Calcolo di quanto pane serve per le persone\n",
    "INPUT: X = numero di persone\n",
    "OUTPUT: panini = X * 1,5\n",
    "END FORMULA\n",
    "\"\"\""
   ],
   "metadata": {
    "collapsed": false,
    "ExecuteTime": {
     "end_time": "2024-01-31T09:38:38.937066Z",
     "start_time": "2024-01-31T09:38:38.933048Z"
    }
   },
   "id": "aa35fb757cba4c40",
   "execution_count": 16
  },
  {
   "cell_type": "markdown",
   "source": [
    "## Database ingestion\n",
    "\n",
    "Come database usiamo Qdrant in memory, non ci serve un database persistente."
   ],
   "metadata": {
    "collapsed": false
   },
   "id": "68c424cd75ea44e2"
  },
  {
   "cell_type": "code",
   "outputs": [],
   "source": [
    "from langchain.vectorstores.qdrant import Qdrant\n",
    "from langchain_community.embeddings import CohereEmbeddings\n",
    "from langchain.text_splitter import RecursiveCharacterTextSplitter\n",
    "\n",
    "text_splitter = RecursiveCharacterTextSplitter(\n",
    "    separators=[\"\\n\\n\", \"\\r\", \"\\t\"],\n",
    "    chunk_size=150,\n",
    "    chunk_overlap=0\n",
    ")\n",
    "chunks = text_splitter.create_documents([formule]) # fatto nella cella precedente"
   ],
   "metadata": {
    "collapsed": false,
    "ExecuteTime": {
     "end_time": "2024-01-31T09:38:40.972533Z",
     "start_time": "2024-01-31T09:38:40.970087Z"
    }
   },
   "id": "e1312b2f3a6b3b87",
   "execution_count": 17
  },
  {
   "cell_type": "markdown",
   "source": [
    "Per salvare i chunk dobbiamo utilizzare degli embedding, che in questo caso sono calcolati da Cohere."
   ],
   "metadata": {
    "collapsed": false
   },
   "id": "bc5721bd04f6e6b"
  },
  {
   "cell_type": "code",
   "outputs": [],
   "source": [
    "vector_store = Qdrant.from_documents(\n",
    "                        chunks,\n",
    "                        location=\":memory:\",\n",
    "                        collection_name=\"formule\",\n",
    "                        embedding=CohereEmbeddings()\n",
    "                    )"
   ],
   "metadata": {
    "collapsed": false,
    "ExecuteTime": {
     "end_time": "2024-01-31T09:38:43.577751Z",
     "start_time": "2024-01-31T09:38:42.307119Z"
    }
   },
   "id": "5274ab657113f5c6",
   "execution_count": 18
  },
  {
   "cell_type": "markdown",
   "source": [
    "A questo punto il nostro vector store è pronto per essere interrogato.\n",
    "\n",
    "## Retrieval and generation\n",
    "\n",
    "Per creare la catena di store e LLM che ci forniranno la risposta utilizziamo langchain. Stiamo facendo un'operazione di prompt engineering, quindi il succo della questione sono i prompt.\n",
    "Abbiamo diviso le operazioni in due fasi distinte:\n",
    "- Nella prima fase un LLM legge la richiesta dell'utente e la converte in un json che segue un formato più comprensibile\n",
    "- Nella seconda fase un altro LLM, un po' più intelligente, legge il json, lo interpreta, e genera la risposta con l'aiuto del retrieval.\n",
    "\n",
    "Entrambi i prompt sfruttando il few-show per convincere gli LLM a lavorare bene."
   ],
   "metadata": {
    "collapsed": false
   },
   "id": "1241b1f2d54f08ad"
  },
  {
   "cell_type": "code",
   "outputs": [],
   "source": [
    "parser_prompt_template= \"\"\"\n",
    "Sei un agente che legge una RICHIESTA di calcolo per le ricette da parte di un utente\n",
    "e la traduce in un formato OUTPUT JSON per poter fare il calcolo vero e proprio.\n",
    "\n",
    "La richiesta è una stringa che contiene una richiesta di calcolo in italiano che riguarda una ricetta.\n",
    "Se la richiesta non è relativa ad una ricetta devi rispondere con un oggetto JSON vuoto {{}}.\n",
    "\n",
    "La tua risposta deve essere SOLO un oggetto JSON che contiene la traduzione\n",
    "in formato json prendendo dalla richiesta le informazioni necessarie,\n",
    "come oggetto, quantità, ingredienti, persone, ecc.\n",
    "\n",
    "Le quantità in output che sono richieste dall'utente sono segnate come ???.\n",
    "\n",
    "Se l'utente chiede quanto lievito serve per fare la pizza, tu devi\n",
    "rispondere con un oggetto OUTPUT JSON che contiene come \"input\" gli elementi della richiesta,\n",
    "e come \"output_richiesti\" quello che l'utente richiede.\n",
    "che sono:\n",
    "- intento: \"fare la pizza\"\n",
    "- farina: \"2 kg\"\n",
    "E come \"output_richiesti\" una lista dei valori che l'utente vuole sapere, che in questo caso è:\n",
    "- \"lievito\"\n",
    "\n",
    "Il formato dell'OUTPUT è:\n",
    "```\n",
    "{{\n",
    "    \"intento\": <intenzione dell'utente>,\n",
    "    \"input\": [\n",
    "         <ingrediente fornito>: <quantità>,\n",
    "    ],\n",
    "     \"output_richiesti\": [\n",
    "            <ingrediente richiesto 1>,\n",
    "            <ingrediente richiesto 2>,\n",
    "            ...\n",
    "    ]\n",
    "}}\n",
    "```\n",
    "Fornisci in output SOLO il json specificato.\n",
    "\n",
    "Se non puoi rispondere alla richiesta, rispondi con un oggetto vuoto {{}}.\n",
    "Non puoi rispondere alla richiesta quando non riesci a capire l'intenzione dell'utente,\n",
    "\n",
    "Ti faccio qualche esempio:\n",
    "\n",
    "---- INIZIO ESEMPI ----\n",
    "\n",
    "RICHIESTA:\n",
    "Voglio fare le scaloppine per 6 persone, quanta carne mi serve?\n",
    "OUTPUT JSON:\n",
    "{{\n",
    "   \"intento\": \"fare le scaloppine\",\n",
    "   \"input\": [\n",
    "       \"persone\": 6,\n",
    "   ],\n",
    "    \"output_richiesti\": [\n",
    "        \"carne\"\n",
    "   ]\n",
    "}}\n",
    "\n",
    "--\n",
    "\n",
    "RICHIESTA:\n",
    "Ho 20 persone a cena e voglio fare il pollo arrosto per tutti, quanti polli mi servono e per quanto tempo devo cucinarli in forno?\n",
    "OUTPUT JSON:\n",
    "{{\n",
    "   \"intento\": \"fare il pollo arrosto\",\n",
    "   \"input\": [\n",
    "       \"persone\": 20,\n",
    "   ],\n",
    "    \"output_richiesti\": [\n",
    "        \"polli\",\n",
    "        \"tempo di cottura in forno\"\n",
    "   ]\n",
    "}}\n",
    "\n",
    "--\n",
    "\n",
    "RICHIESTA:\n",
    "Voglio fare lo strudel, quante uova mi servono se il peso totale deve essere 2 kg?\n",
    "OUTPUT JSON:\n",
    "{{\n",
    "   \"intento\": \"fare lo strudel\",\n",
    "   \"input\": [\n",
    "       \"peso totale\": 2,\n",
    "   ],\n",
    "    \"output_richiesti\": [\n",
    "        \"uova\"\n",
    "   ]\n",
    "}}\n",
    "\n",
    "--\n",
    "\n",
    "RICHIESTA:\n",
    "Devo cucinare la pasta al sugo per i miei 6 amici, di quanti grammi di pasta ho bisogno?\n",
    "OUTPUT JSON:\n",
    "{{\n",
    "   \"intento\": \"fare la pasta al sugo\",\n",
    "   \"input\": [\n",
    "       \"persone\": 6,\n",
    "   ],\n",
    "    \"output_richiesti\": [\n",
    "        \"pasta\"\n",
    "   ]\n",
    "}}\n",
    "\n",
    "--\n",
    "\n",
    "\n",
    "RICHIESTA:\n",
    "Ho 2 kg di farina e devo fare la pizza, quanto lievito mi serve?\n",
    "OUTPUT JSON:\n",
    "{{\n",
    "    \"intento\": \"fare la pizza\",\n",
    "    \"input\": [\n",
    "         \"farina\": \"2 kg\",\n",
    "    ],\n",
    "     \"output_richiesti\": [\n",
    "            \"lievito\"\n",
    "    ]\n",
    "}}\n",
    "\n",
    "\n",
    "--\n",
    "\n",
    "RICHIESTA:\n",
    "Voglio fare 2 litri di salsa di pomodoro, di quanti pomodori e di quanto sale ho bisogno?\n",
    "OUTPUT JSON:\n",
    "{{\n",
    "    \"intento\": \"fare la salsa di pomodoro\n",
    "    \"input\": [\n",
    "         \"salsa di pomodoro\": \"2 litri\",\n",
    "    ],\n",
    "     \"output_richiesti\": [\n",
    "            \"pomodori\",\n",
    "            \"sale\"\n",
    "    ]\n",
    "}}\n",
    "\n",
    "---- FINE ESEMPI ----\n",
    "\n",
    "RICHIESTA: {input}\n",
    "\n",
    "OUTPUT JSON:\n",
    "\"\"\"\n",
    "\n",
    "executor_prompt_template = \"\"\"\n",
    "Sei un agente che legge una richiesta di calcolo da una RICHIESTA in formato json\n",
    "e la risolve, utilizzando le formule fornite nel CONTESTO e applicando i valori della richiesta.\n",
    "\n",
    "I tuoi input sono la RICHIESTA e il CONTESTO.\n",
    "\n",
    "Devi trasformare la RICHIESTA in una soluzione applicando le formule del CONTESTO.\n",
    "Se la richiesta riguarda più formule devi scegliere quelle che ti servono per arrivare al risultato.\n",
    "Procedi passo per passo, scrivendo il tuo ragionamento in italiano e poi\n",
    "scrivi il risultato.\n",
    "NON usare formule che non trovi nel CONTESTO.\n",
    "\n",
    "Se non ci sono formule nel CONTESTO non puoi rispondere alla richiesta, e devi dire che non puoi rispondere E BASTA, NON DEVI DIRE quali formule ci sono nel contesto.\n",
    "\n",
    "Se la RICHIESTA è vuota, oppure se mancano input, intento o output, rispondi dicendo che non puoi rispondere perché non hai capito la richiesta.\n",
    "\n",
    "Il tuo OUTPUT è la spiegazione di quali formule hai scelto, il tuo ragionamento e i tuoi calcoli e poi separatamente il risultato.\n",
    "Il formato dell'OUTPUT è:\n",
    "- quali formule hai scelto e perché le hai scelte\n",
    "- spiegazione dei calcoli\n",
    "***\n",
    "<risultato>\n",
    "***\n",
    "\n",
    "Ti faccio qualche esempio:\n",
    "---- INIZIO ESEMPI:\n",
    "\n",
    "RICHIESTA:\n",
    "{{\n",
    "   \"intento\": \"fare le scaloppine\",\n",
    "   \"input\": [\n",
    "       \"persone\": 6,\n",
    "   ],\n",
    "    \"output_richiesti\": [\n",
    "         \"carne\"\n",
    "   ]\n",
    "}}\n",
    "\n",
    "CONTESTO:\n",
    "```\n",
    "FORMULA\n",
    "INTENTO: Calcolo della carne per fare le scaloppine\n",
    "INPUT: X = persone\n",
    "OUTPUT: carne = X * 200 g\n",
    "END FORMULA\n",
    "\n",
    "FORMULA\n",
    "INTENTO: Calcolo del limone per le scaloppine\n",
    "INPUT: X = grammi di carne\n",
    "OUTPUT: limone = X * 1 limone\n",
    "END FORMULA\n",
    "\n",
    "FORMULA\n",
    "INTENTO: Calcolo della farina per la torta\n",
    "INPUT: X = persone\n",
    "OUTPUT: farina = X * 100 g\n",
    "END FORMULA\n",
    "```\n",
    "\n",
    "OUTPUT:\n",
    "l'utente vuole fare la scaloppina per 6 persone e vuole sapere la quantità di carne.\n",
    "NON uso la formula per calcolare la farina per la torta perché NON è quello che mi serve.\n",
    "NON uso la formula per calcolare il limone per le scaloppine perché NON è quello che mi viene richiesto negli \"output_richiesti\".\n",
    "Uso la formula calcolare quanta carne serve per le scaloppine in base alle persone perché in input ho le persone,\n",
    "l'intento è fare le scaloppine, e l'output richiesto è carne.\n",
    "\n",
    "X è il numero di persone\n",
    "per sapere la carne devo moltiplicare il numero di persone per 200 g\n",
    "il numero di persone è 6\n",
    "il calcolo è 6 * 200 g = 1200 g = 1,2 kg\n",
    "\n",
    "***\n",
    "Ti servono 1,2 kg di carne per fare le scaloppine per 6 persone\n",
    "***\n",
    "\n",
    "-----\n",
    "\n",
    "RICHIESTA:\n",
    "{{\n",
    "    \"intento\": \"fare la pizza\"\n",
    "    \"input\": [\n",
    "         \"farina\": \"2 kg\",\n",
    "    ],\n",
    "     \"output_richiesti\": [\n",
    "            \"lievito\"\n",
    "    ]\n",
    "}}\n",
    "\n",
    "CONTESTO:\n",
    "```\n",
    "FORMULA\n",
    "INTENTO: Calcolo del lievito per fare la pizza\n",
    "INPUT: X = kg di farina\n",
    "OUTPUT: lievito = X * 10 g\n",
    "END FORMULA\n",
    "\n",
    "FORMULA\n",
    "INTENTO: Calcolo delle uova per la crema pasticcera\n",
    "INPUT: X = litri di latte\n",
    "OUTPUT: uova = X * 4 uova\n",
    "END FORMULA\n",
    "```\n",
    "\n",
    "OUTPUT:\n",
    "l'utente vuole fare la pizza con 2 kg di farina e vuole sapere la quantità di lievito.\n",
    "NON uso la formula per calcolare le uova per la crema pasticcera perché non è quello che mi serve.\n",
    "Uso la formula per calcolare quanto lievito serve per la pizza in base alla farina perché l'input è kg di farina,\n",
    "l'intento è fare la pizza, e l'output richiesto è lievito.\n",
    "\n",
    "X è il numero di kg di farina\n",
    "per sapere la quantità di lievito devo moltiplicare il numero di kg di farina per 10 g\n",
    "Il numero di kg di farina è 2.\n",
    "Il calcolo è 2 * 10 g = 20 g di lievito.\n",
    "\n",
    "****\n",
    "Ti servono 20 g di lievito per fare la pizza con 2 kg di farina.\n",
    "****\n",
    "\n",
    "-----\n",
    "\n",
    "RICHIESTA:\n",
    "{{\n",
    "   \"intento\": \"fare la pasta alla carbonara\",\n",
    "   \"input\": [\n",
    "      \"persone\": 4,\n",
    "   ],\n",
    "    \"output_richiesti\": [\n",
    "        \"uova\",\n",
    "        \"pancetta\",\n",
    "        \"tempo di cottura\",\n",
    "        \"pasta\"\n",
    "    ]\n",
    "}}\n",
    "\n",
    "CONTESTO:\n",
    "```\n",
    "FORMULA\n",
    "INTENTO: Calcolo della pasta per fare la carbonara\n",
    "INPUT: X = persone\n",
    "OUTPUT: pasta = X * 100 g\n",
    "END FORMULA\n",
    "\n",
    "FORMULA\n",
    "INTENTO: Calcolo delle uova e della pancetta per fare la carbonara\n",
    "INPUT: X = kg di pasta\n",
    "OUTPUT: uova = X * 20 uova\n",
    "        pancetta = X * 100 g\n",
    "END FORMULA\n",
    "```\n",
    "\n",
    "OUTPUT:\n",
    "La richiesta vuole sapere che quantità usare per la carbonara per 4 persone.\n",
    "Uso la formula per il calcolo della pasta per fare la carbonara perché tra gli output_richiesti c'è la pasta.\n",
    "Uso la formula per calcolare le uova e la pancetta per fare la carbonara perché tra gli output_richiesti ci sono uova e pancetta.\n",
    "NON uso nessun'altra formula.\n",
    "\n",
    "Calcolo la pasta per 4 persone perché in input ho le persone,\n",
    "X è il numero di persone.\n",
    "Per sapere la pasta devo moltiplicare il numero di persone per 100 g\n",
    "Il numero di persone è 4 quindi il calcolo è 4 * 100 g = 400 g\n",
    "Mi servono 400 g di pasta per 4 persone\n",
    "\n",
    "La pasta è stata calcolata nel calcolo precedente, ed è 400 g.\n",
    "Uso la formula per calcolare le uova e la pancetta usando 400 g di pasta che ho calcolato nel calcolo precedente.\n",
    "X è il numero di kg di pasta quindi converto 400g in kg.\n",
    "X = 400 g / 1000 g = 0.4 kg\n",
    "Per calcolare le uova devo moltiplicare X per 20\n",
    "Per calcolare la pancetta devo moltiplicare X per 100 g\n",
    "uova = 0.4 * 20 uova\n",
    "pancetta = 0.4 * 100 g\n",
    "Il calcolo è uova = 8 uova e pancetta = 400 g\n",
    "\n",
    "***\n",
    "Ti servono 8 uova e 400 g di pancetta per 400 g di pasta per 4 persone.\n",
    "***\n",
    "\n",
    "--- FINE ESEMPI\n",
    "\n",
    "RICHIESTA: {input}\n",
    "\n",
    "CONTESTO:\n",
    "```\n",
    "{formula}\n",
    "```\n",
    "\n",
    "OUTPUT:\n",
    "\"\"\""
   ],
   "metadata": {
    "collapsed": false,
    "ExecuteTime": {
     "end_time": "2024-01-31T09:38:46.961987Z",
     "start_time": "2024-01-31T09:38:46.951995Z"
    }
   },
   "id": "db27e7d5cd1e6661",
   "execution_count": 19
  },
  {
   "cell_type": "markdown",
   "source": [
    "Questi prompt template usano la notazione `{variabile}` per denotare variabili sostituibili a runtime. Per questa ragione se vogliamo scrivere del json dobbiamo usare ``{{ \"due\": \"Parentesi graffe\" }}``.\n",
    "\n",
    "Ma proseguiamo, definiamo il pezzo di chain che fa il parsing da richiesta a json:"
   ],
   "metadata": {
    "collapsed": false
   },
   "id": "687b7db85d4fb9f1"
  },
  {
   "cell_type": "code",
   "outputs": [],
   "source": [
    "from langchain_core.prompts import ChatPromptTemplate\n",
    "from langchain_community.llms import Cohere\n",
    "from langchain_community.chat_models.cohere import ChatCohere\n",
    "from langchain_core.runnables import RunnablePassthrough\n",
    "from langchain_core.output_parsers import StrOutputParser\n",
    "\n",
    "# Definiamo prompt e modello per il parser\n",
    "# Nota: cohere command funziona bene per questo compito\n",
    "cohere_llm = Cohere(model=\"command\", max_tokens=256, temperature=0.1)\n",
    "parser_prompt = ChatPromptTemplate.from_template(parser_prompt_template)\n",
    "parse_model = ChatCohere(llm=cohere_llm)\n",
    "\n",
    "# Definiamo la catena che legge l'input e arriva ad un output utilizzando\n",
    "# prompt template e modello\n",
    "parser_chain = (\n",
    "    {\"input\": RunnablePassthrough()}\n",
    "    | parser_prompt\n",
    "    | parse_model\n",
    "    | StrOutputParser()\n",
    ")"
   ],
   "metadata": {
    "collapsed": false,
    "ExecuteTime": {
     "end_time": "2024-01-31T09:38:48.990885Z",
     "start_time": "2024-01-31T09:38:48.854637Z"
    }
   },
   "id": "94088fb0e1aa3b39",
   "execution_count": 20
  },
  {
   "cell_type": "markdown",
   "source": [
    "Ora passiamo alla generazione:"
   ],
   "metadata": {
    "collapsed": false
   },
   "id": "ca26c798a7bb7422"
  },
  {
   "cell_type": "code",
   "outputs": [],
   "source": [
    "executor_prompt = ChatPromptTemplate.from_template(executor_prompt_template)\n",
    "executor_model = bedrock() # definito sopra sopra\n",
    "\n",
    "executor_chain = (\n",
    "    executor_prompt\n",
    "    | executor_model\n",
    "    | StrOutputParser()\n",
    ")"
   ],
   "metadata": {
    "collapsed": false,
    "ExecuteTime": {
     "end_time": "2024-01-31T09:38:51.389159Z",
     "start_time": "2024-01-31T09:38:51.249626Z"
    }
   },
   "id": "f5403e480f74d413",
   "execution_count": 21
  },
  {
   "cell_type": "markdown",
   "source": [
    "Adesso possiamo unire i vari pezzi!"
   ],
   "metadata": {
    "collapsed": false
   },
   "id": "548bbb4b61308d6a"
  },
  {
   "cell_type": "code",
   "outputs": [
    {
     "name": "stdout",
     "output_type": "stream",
     "text": [
      "{\n",
      "    \"intento\": \"fare panini\",\n",
      "    \"input\": [\n",
      "        \"persone\": 23,\n",
      "    ],\n",
      "    \"output_richiesti\": [\n",
      "        \"farina\"\n",
      "    ]\n",
      "}\n"
     ]
    }
   ],
   "source": [
    "input = \"Quanta farina serve per fare panini per 23 persone?\"\n",
    "\n",
    "parsed_query = parser_chain.invoke({\"input\": input})\n",
    "print(parsed_query)"
   ],
   "metadata": {
    "collapsed": false,
    "ExecuteTime": {
     "end_time": "2024-01-31T09:39:19.362919Z",
     "start_time": "2024-01-31T09:39:17.157427Z"
    }
   },
   "id": "c0199a6d6d736841",
   "execution_count": 23
  },
  {
   "cell_type": "markdown",
   "source": [
    "E questa è la richiesta in json."
   ],
   "metadata": {
    "collapsed": false
   },
   "id": "cc0d4fbfc713dc43"
  },
  {
   "cell_type": "code",
   "outputs": [
    {
     "name": "stdout",
     "output_type": "stream",
     "text": [
      "[Document(page_content='\\n\\nFORMULA\\nINTENTO: Calcolo di quanta farina serve per fare il pane in base al numero di panini\\nINPUT: X = numero di panini\\nOUTPUT: farina = X * 200 g\\nEND FORMULA'), Document(page_content='FORMULA\\nINTENTO: Calcolo di quanto pane serve per le persone\\nINPUT: X = numero di persone\\nOUTPUT: panini = X * 1,5\\nEND FORMULA'), Document(page_content='FORMULA\\nINTENTO: Calcolo di quanto lievito serve per il pane\\nINPUT: X = kg di farina\\nOUTPUT:\\nlievito = X * 5 g\\nEND FORMULA'), Document(page_content='FORMULA\\nINTENTO: Calcolare quanto pangrattato serve per le cotolette\\nINPUT: X = numero di cotolette\\nOUTPUT: pangrattato = X * 50 g\\nEND FORMULA'), Document(page_content='FORMULA\\nINTENTO: Calcolo di acqua per fare l pane partendo dalla farina\\nINPUT: X = kg di farina\\nOUTPUT: acqua = X * 0.6 litri\\nEND FORMULA')]\n"
     ]
    }
   ],
   "source": [
    "formulas = vector_store.search(parsed_query, k=5, search_type=\"similarity\")\n",
    "\n",
    "print(formulas)"
   ],
   "metadata": {
    "collapsed": false,
    "ExecuteTime": {
     "end_time": "2024-01-31T09:39:21.873998Z",
     "start_time": "2024-01-31T09:39:21.330041Z"
    }
   },
   "id": "659b65d8dce0e445",
   "execution_count": 24
  },
  {
   "cell_type": "markdown",
   "source": [
    "Queste sono le formule potrebbero essere utili per la nostra richiesta."
   ],
   "metadata": {
    "collapsed": false
   },
   "id": "d66e9f2120019810"
  },
  {
   "cell_type": "code",
   "outputs": [
    {
     "ename": "ValueError",
     "evalue": "Error raised by bedrock service: An error occurred (AccessDeniedException) when calling the InvokeModel operation: You don't have access to the model with the specified model ID.",
     "output_type": "error",
     "traceback": [
      "\u001B[0;31m---------------------------------------------------------------------------\u001B[0m",
      "\u001B[0;31mAccessDeniedException\u001B[0m                     Traceback (most recent call last)",
      "File \u001B[0;32m~/Library/Caches/pypoetry/virtualenvs/formulozze-zQe7B9iH-py3.11/lib/python3.11/site-packages/langchain_community/llms/bedrock.py:434\u001B[0m, in \u001B[0;36mBedrockBase._prepare_input_and_invoke\u001B[0;34m(self, prompt, stop, run_manager, **kwargs)\u001B[0m\n\u001B[1;32m    433\u001B[0m \u001B[38;5;28;01mtry\u001B[39;00m:\n\u001B[0;32m--> 434\u001B[0m     response \u001B[38;5;241m=\u001B[39m \u001B[38;5;28;43mself\u001B[39;49m\u001B[38;5;241;43m.\u001B[39;49m\u001B[43mclient\u001B[49m\u001B[38;5;241;43m.\u001B[39;49m\u001B[43minvoke_model\u001B[49m\u001B[43m(\u001B[49m\u001B[38;5;241;43m*\u001B[39;49m\u001B[38;5;241;43m*\u001B[39;49m\u001B[43mrequest_options\u001B[49m\u001B[43m)\u001B[49m\n\u001B[1;32m    436\u001B[0m     text, body \u001B[38;5;241m=\u001B[39m LLMInputOutputAdapter\u001B[38;5;241m.\u001B[39mprepare_output(\n\u001B[1;32m    437\u001B[0m         provider, response\n\u001B[1;32m    438\u001B[0m     )\u001B[38;5;241m.\u001B[39mvalues()\n",
      "File \u001B[0;32m~/Library/Caches/pypoetry/virtualenvs/formulozze-zQe7B9iH-py3.11/lib/python3.11/site-packages/botocore/client.py:553\u001B[0m, in \u001B[0;36mClientCreator._create_api_method.<locals>._api_call\u001B[0;34m(self, *args, **kwargs)\u001B[0m\n\u001B[1;32m    552\u001B[0m \u001B[38;5;66;03m# The \"self\" in this scope is referring to the BaseClient.\u001B[39;00m\n\u001B[0;32m--> 553\u001B[0m \u001B[38;5;28;01mreturn\u001B[39;00m \u001B[38;5;28;43mself\u001B[39;49m\u001B[38;5;241;43m.\u001B[39;49m\u001B[43m_make_api_call\u001B[49m\u001B[43m(\u001B[49m\u001B[43moperation_name\u001B[49m\u001B[43m,\u001B[49m\u001B[43m \u001B[49m\u001B[43mkwargs\u001B[49m\u001B[43m)\u001B[49m\n",
      "File \u001B[0;32m~/Library/Caches/pypoetry/virtualenvs/formulozze-zQe7B9iH-py3.11/lib/python3.11/site-packages/botocore/client.py:1009\u001B[0m, in \u001B[0;36mBaseClient._make_api_call\u001B[0;34m(self, operation_name, api_params)\u001B[0m\n\u001B[1;32m   1008\u001B[0m     error_class \u001B[38;5;241m=\u001B[39m \u001B[38;5;28mself\u001B[39m\u001B[38;5;241m.\u001B[39mexceptions\u001B[38;5;241m.\u001B[39mfrom_code(error_code)\n\u001B[0;32m-> 1009\u001B[0m     \u001B[38;5;28;01mraise\u001B[39;00m error_class(parsed_response, operation_name)\n\u001B[1;32m   1010\u001B[0m \u001B[38;5;28;01melse\u001B[39;00m:\n",
      "\u001B[0;31mAccessDeniedException\u001B[0m: An error occurred (AccessDeniedException) when calling the InvokeModel operation: You don't have access to the model with the specified model ID.",
      "\nDuring handling of the above exception, another exception occurred:\n",
      "\u001B[0;31mValueError\u001B[0m                                Traceback (most recent call last)",
      "Cell \u001B[0;32mIn[25], line 1\u001B[0m\n\u001B[0;32m----> 1\u001B[0m output \u001B[38;5;241m=\u001B[39m \u001B[43mexecutor_chain\u001B[49m\u001B[38;5;241;43m.\u001B[39;49m\u001B[43minvoke\u001B[49m\u001B[43m(\u001B[49m\u001B[43m{\u001B[49m\u001B[38;5;124;43m\"\u001B[39;49m\u001B[38;5;124;43minput\u001B[39;49m\u001B[38;5;124;43m\"\u001B[39;49m\u001B[43m:\u001B[49m\u001B[43m \u001B[49m\u001B[43mparsed_query\u001B[49m\u001B[43m,\u001B[49m\u001B[43m \u001B[49m\u001B[38;5;124;43m\"\u001B[39;49m\u001B[38;5;124;43mformula\u001B[39;49m\u001B[38;5;124;43m\"\u001B[39;49m\u001B[43m:\u001B[49m\u001B[43m \u001B[49m\u001B[43mformulas\u001B[49m\u001B[43m}\u001B[49m\u001B[43m)\u001B[49m\n",
      "File \u001B[0;32m~/Library/Caches/pypoetry/virtualenvs/formulozze-zQe7B9iH-py3.11/lib/python3.11/site-packages/langchain_core/runnables/base.py:2053\u001B[0m, in \u001B[0;36mRunnableSequence.invoke\u001B[0;34m(self, input, config)\u001B[0m\n\u001B[1;32m   2051\u001B[0m \u001B[38;5;28;01mtry\u001B[39;00m:\n\u001B[1;32m   2052\u001B[0m     \u001B[38;5;28;01mfor\u001B[39;00m i, step \u001B[38;5;129;01min\u001B[39;00m \u001B[38;5;28menumerate\u001B[39m(\u001B[38;5;28mself\u001B[39m\u001B[38;5;241m.\u001B[39msteps):\n\u001B[0;32m-> 2053\u001B[0m         \u001B[38;5;28minput\u001B[39m \u001B[38;5;241m=\u001B[39m \u001B[43mstep\u001B[49m\u001B[38;5;241;43m.\u001B[39;49m\u001B[43minvoke\u001B[49m\u001B[43m(\u001B[49m\n\u001B[1;32m   2054\u001B[0m \u001B[43m            \u001B[49m\u001B[38;5;28;43minput\u001B[39;49m\u001B[43m,\u001B[49m\n\u001B[1;32m   2055\u001B[0m \u001B[43m            \u001B[49m\u001B[38;5;66;43;03m# mark each step as a child run\u001B[39;49;00m\n\u001B[1;32m   2056\u001B[0m \u001B[43m            \u001B[49m\u001B[43mpatch_config\u001B[49m\u001B[43m(\u001B[49m\n\u001B[1;32m   2057\u001B[0m \u001B[43m                \u001B[49m\u001B[43mconfig\u001B[49m\u001B[43m,\u001B[49m\u001B[43m \u001B[49m\u001B[43mcallbacks\u001B[49m\u001B[38;5;241;43m=\u001B[39;49m\u001B[43mrun_manager\u001B[49m\u001B[38;5;241;43m.\u001B[39;49m\u001B[43mget_child\u001B[49m\u001B[43m(\u001B[49m\u001B[38;5;124;43mf\u001B[39;49m\u001B[38;5;124;43m\"\u001B[39;49m\u001B[38;5;124;43mseq:step:\u001B[39;49m\u001B[38;5;132;43;01m{\u001B[39;49;00m\u001B[43mi\u001B[49m\u001B[38;5;241;43m+\u001B[39;49m\u001B[38;5;241;43m1\u001B[39;49m\u001B[38;5;132;43;01m}\u001B[39;49;00m\u001B[38;5;124;43m\"\u001B[39;49m\u001B[43m)\u001B[49m\n\u001B[1;32m   2058\u001B[0m \u001B[43m            \u001B[49m\u001B[43m)\u001B[49m\u001B[43m,\u001B[49m\n\u001B[1;32m   2059\u001B[0m \u001B[43m        \u001B[49m\u001B[43m)\u001B[49m\n\u001B[1;32m   2060\u001B[0m \u001B[38;5;66;03m# finish the root run\u001B[39;00m\n\u001B[1;32m   2061\u001B[0m \u001B[38;5;28;01mexcept\u001B[39;00m \u001B[38;5;167;01mBaseException\u001B[39;00m \u001B[38;5;28;01mas\u001B[39;00m e:\n",
      "File \u001B[0;32m~/Library/Caches/pypoetry/virtualenvs/formulozze-zQe7B9iH-py3.11/lib/python3.11/site-packages/langchain_core/language_models/llms.py:230\u001B[0m, in \u001B[0;36mBaseLLM.invoke\u001B[0;34m(self, input, config, stop, **kwargs)\u001B[0m\n\u001B[1;32m    220\u001B[0m \u001B[38;5;28;01mdef\u001B[39;00m \u001B[38;5;21minvoke\u001B[39m(\n\u001B[1;32m    221\u001B[0m     \u001B[38;5;28mself\u001B[39m,\n\u001B[1;32m    222\u001B[0m     \u001B[38;5;28minput\u001B[39m: LanguageModelInput,\n\u001B[0;32m   (...)\u001B[0m\n\u001B[1;32m    226\u001B[0m     \u001B[38;5;241m*\u001B[39m\u001B[38;5;241m*\u001B[39mkwargs: Any,\n\u001B[1;32m    227\u001B[0m ) \u001B[38;5;241m-\u001B[39m\u001B[38;5;241m>\u001B[39m \u001B[38;5;28mstr\u001B[39m:\n\u001B[1;32m    228\u001B[0m     config \u001B[38;5;241m=\u001B[39m ensure_config(config)\n\u001B[1;32m    229\u001B[0m     \u001B[38;5;28;01mreturn\u001B[39;00m (\n\u001B[0;32m--> 230\u001B[0m         \u001B[38;5;28;43mself\u001B[39;49m\u001B[38;5;241;43m.\u001B[39;49m\u001B[43mgenerate_prompt\u001B[49m\u001B[43m(\u001B[49m\n\u001B[1;32m    231\u001B[0m \u001B[43m            \u001B[49m\u001B[43m[\u001B[49m\u001B[38;5;28;43mself\u001B[39;49m\u001B[38;5;241;43m.\u001B[39;49m\u001B[43m_convert_input\u001B[49m\u001B[43m(\u001B[49m\u001B[38;5;28;43minput\u001B[39;49m\u001B[43m)\u001B[49m\u001B[43m]\u001B[49m\u001B[43m,\u001B[49m\n\u001B[1;32m    232\u001B[0m \u001B[43m            \u001B[49m\u001B[43mstop\u001B[49m\u001B[38;5;241;43m=\u001B[39;49m\u001B[43mstop\u001B[49m\u001B[43m,\u001B[49m\n\u001B[1;32m    233\u001B[0m \u001B[43m            \u001B[49m\u001B[43mcallbacks\u001B[49m\u001B[38;5;241;43m=\u001B[39;49m\u001B[43mconfig\u001B[49m\u001B[38;5;241;43m.\u001B[39;49m\u001B[43mget\u001B[49m\u001B[43m(\u001B[49m\u001B[38;5;124;43m\"\u001B[39;49m\u001B[38;5;124;43mcallbacks\u001B[39;49m\u001B[38;5;124;43m\"\u001B[39;49m\u001B[43m)\u001B[49m\u001B[43m,\u001B[49m\n\u001B[1;32m    234\u001B[0m \u001B[43m            \u001B[49m\u001B[43mtags\u001B[49m\u001B[38;5;241;43m=\u001B[39;49m\u001B[43mconfig\u001B[49m\u001B[38;5;241;43m.\u001B[39;49m\u001B[43mget\u001B[49m\u001B[43m(\u001B[49m\u001B[38;5;124;43m\"\u001B[39;49m\u001B[38;5;124;43mtags\u001B[39;49m\u001B[38;5;124;43m\"\u001B[39;49m\u001B[43m)\u001B[49m\u001B[43m,\u001B[49m\n\u001B[1;32m    235\u001B[0m \u001B[43m            \u001B[49m\u001B[43mmetadata\u001B[49m\u001B[38;5;241;43m=\u001B[39;49m\u001B[43mconfig\u001B[49m\u001B[38;5;241;43m.\u001B[39;49m\u001B[43mget\u001B[49m\u001B[43m(\u001B[49m\u001B[38;5;124;43m\"\u001B[39;49m\u001B[38;5;124;43mmetadata\u001B[39;49m\u001B[38;5;124;43m\"\u001B[39;49m\u001B[43m)\u001B[49m\u001B[43m,\u001B[49m\n\u001B[1;32m    236\u001B[0m \u001B[43m            \u001B[49m\u001B[43mrun_name\u001B[49m\u001B[38;5;241;43m=\u001B[39;49m\u001B[43mconfig\u001B[49m\u001B[38;5;241;43m.\u001B[39;49m\u001B[43mget\u001B[49m\u001B[43m(\u001B[49m\u001B[38;5;124;43m\"\u001B[39;49m\u001B[38;5;124;43mrun_name\u001B[39;49m\u001B[38;5;124;43m\"\u001B[39;49m\u001B[43m)\u001B[49m\u001B[43m,\u001B[49m\n\u001B[1;32m    237\u001B[0m \u001B[43m            \u001B[49m\u001B[38;5;241;43m*\u001B[39;49m\u001B[38;5;241;43m*\u001B[39;49m\u001B[43mkwargs\u001B[49m\u001B[43m,\u001B[49m\n\u001B[1;32m    238\u001B[0m \u001B[43m        \u001B[49m\u001B[43m)\u001B[49m\n\u001B[1;32m    239\u001B[0m         \u001B[38;5;241m.\u001B[39mgenerations[\u001B[38;5;241m0\u001B[39m][\u001B[38;5;241m0\u001B[39m]\n\u001B[1;32m    240\u001B[0m         \u001B[38;5;241m.\u001B[39mtext\n\u001B[1;32m    241\u001B[0m     )\n",
      "File \u001B[0;32m~/Library/Caches/pypoetry/virtualenvs/formulozze-zQe7B9iH-py3.11/lib/python3.11/site-packages/langchain_core/language_models/llms.py:525\u001B[0m, in \u001B[0;36mBaseLLM.generate_prompt\u001B[0;34m(self, prompts, stop, callbacks, **kwargs)\u001B[0m\n\u001B[1;32m    517\u001B[0m \u001B[38;5;28;01mdef\u001B[39;00m \u001B[38;5;21mgenerate_prompt\u001B[39m(\n\u001B[1;32m    518\u001B[0m     \u001B[38;5;28mself\u001B[39m,\n\u001B[1;32m    519\u001B[0m     prompts: List[PromptValue],\n\u001B[0;32m   (...)\u001B[0m\n\u001B[1;32m    522\u001B[0m     \u001B[38;5;241m*\u001B[39m\u001B[38;5;241m*\u001B[39mkwargs: Any,\n\u001B[1;32m    523\u001B[0m ) \u001B[38;5;241m-\u001B[39m\u001B[38;5;241m>\u001B[39m LLMResult:\n\u001B[1;32m    524\u001B[0m     prompt_strings \u001B[38;5;241m=\u001B[39m [p\u001B[38;5;241m.\u001B[39mto_string() \u001B[38;5;28;01mfor\u001B[39;00m p \u001B[38;5;129;01min\u001B[39;00m prompts]\n\u001B[0;32m--> 525\u001B[0m     \u001B[38;5;28;01mreturn\u001B[39;00m \u001B[38;5;28;43mself\u001B[39;49m\u001B[38;5;241;43m.\u001B[39;49m\u001B[43mgenerate\u001B[49m\u001B[43m(\u001B[49m\u001B[43mprompt_strings\u001B[49m\u001B[43m,\u001B[49m\u001B[43m \u001B[49m\u001B[43mstop\u001B[49m\u001B[38;5;241;43m=\u001B[39;49m\u001B[43mstop\u001B[49m\u001B[43m,\u001B[49m\u001B[43m \u001B[49m\u001B[43mcallbacks\u001B[49m\u001B[38;5;241;43m=\u001B[39;49m\u001B[43mcallbacks\u001B[49m\u001B[43m,\u001B[49m\u001B[43m \u001B[49m\u001B[38;5;241;43m*\u001B[39;49m\u001B[38;5;241;43m*\u001B[39;49m\u001B[43mkwargs\u001B[49m\u001B[43m)\u001B[49m\n",
      "File \u001B[0;32m~/Library/Caches/pypoetry/virtualenvs/formulozze-zQe7B9iH-py3.11/lib/python3.11/site-packages/langchain_core/language_models/llms.py:698\u001B[0m, in \u001B[0;36mBaseLLM.generate\u001B[0;34m(self, prompts, stop, callbacks, tags, metadata, run_name, **kwargs)\u001B[0m\n\u001B[1;32m    682\u001B[0m         \u001B[38;5;28;01mraise\u001B[39;00m \u001B[38;5;167;01mValueError\u001B[39;00m(\n\u001B[1;32m    683\u001B[0m             \u001B[38;5;124m\"\u001B[39m\u001B[38;5;124mAsked to cache, but no cache found at `langchain.cache`.\u001B[39m\u001B[38;5;124m\"\u001B[39m\n\u001B[1;32m    684\u001B[0m         )\n\u001B[1;32m    685\u001B[0m     run_managers \u001B[38;5;241m=\u001B[39m [\n\u001B[1;32m    686\u001B[0m         callback_manager\u001B[38;5;241m.\u001B[39mon_llm_start(\n\u001B[1;32m    687\u001B[0m             dumpd(\u001B[38;5;28mself\u001B[39m),\n\u001B[0;32m   (...)\u001B[0m\n\u001B[1;32m    696\u001B[0m         )\n\u001B[1;32m    697\u001B[0m     ]\n\u001B[0;32m--> 698\u001B[0m     output \u001B[38;5;241m=\u001B[39m \u001B[38;5;28;43mself\u001B[39;49m\u001B[38;5;241;43m.\u001B[39;49m\u001B[43m_generate_helper\u001B[49m\u001B[43m(\u001B[49m\n\u001B[1;32m    699\u001B[0m \u001B[43m        \u001B[49m\u001B[43mprompts\u001B[49m\u001B[43m,\u001B[49m\u001B[43m \u001B[49m\u001B[43mstop\u001B[49m\u001B[43m,\u001B[49m\u001B[43m \u001B[49m\u001B[43mrun_managers\u001B[49m\u001B[43m,\u001B[49m\u001B[43m \u001B[49m\u001B[38;5;28;43mbool\u001B[39;49m\u001B[43m(\u001B[49m\u001B[43mnew_arg_supported\u001B[49m\u001B[43m)\u001B[49m\u001B[43m,\u001B[49m\u001B[43m \u001B[49m\u001B[38;5;241;43m*\u001B[39;49m\u001B[38;5;241;43m*\u001B[39;49m\u001B[43mkwargs\u001B[49m\n\u001B[1;32m    700\u001B[0m \u001B[43m    \u001B[49m\u001B[43m)\u001B[49m\n\u001B[1;32m    701\u001B[0m     \u001B[38;5;28;01mreturn\u001B[39;00m output\n\u001B[1;32m    702\u001B[0m \u001B[38;5;28;01mif\u001B[39;00m \u001B[38;5;28mlen\u001B[39m(missing_prompts) \u001B[38;5;241m>\u001B[39m \u001B[38;5;241m0\u001B[39m:\n",
      "File \u001B[0;32m~/Library/Caches/pypoetry/virtualenvs/formulozze-zQe7B9iH-py3.11/lib/python3.11/site-packages/langchain_core/language_models/llms.py:562\u001B[0m, in \u001B[0;36mBaseLLM._generate_helper\u001B[0;34m(self, prompts, stop, run_managers, new_arg_supported, **kwargs)\u001B[0m\n\u001B[1;32m    560\u001B[0m     \u001B[38;5;28;01mfor\u001B[39;00m run_manager \u001B[38;5;129;01min\u001B[39;00m run_managers:\n\u001B[1;32m    561\u001B[0m         run_manager\u001B[38;5;241m.\u001B[39mon_llm_error(e, response\u001B[38;5;241m=\u001B[39mLLMResult(generations\u001B[38;5;241m=\u001B[39m[]))\n\u001B[0;32m--> 562\u001B[0m     \u001B[38;5;28;01mraise\u001B[39;00m e\n\u001B[1;32m    563\u001B[0m flattened_outputs \u001B[38;5;241m=\u001B[39m output\u001B[38;5;241m.\u001B[39mflatten()\n\u001B[1;32m    564\u001B[0m \u001B[38;5;28;01mfor\u001B[39;00m manager, flattened_output \u001B[38;5;129;01min\u001B[39;00m \u001B[38;5;28mzip\u001B[39m(run_managers, flattened_outputs):\n",
      "File \u001B[0;32m~/Library/Caches/pypoetry/virtualenvs/formulozze-zQe7B9iH-py3.11/lib/python3.11/site-packages/langchain_core/language_models/llms.py:549\u001B[0m, in \u001B[0;36mBaseLLM._generate_helper\u001B[0;34m(self, prompts, stop, run_managers, new_arg_supported, **kwargs)\u001B[0m\n\u001B[1;32m    539\u001B[0m \u001B[38;5;28;01mdef\u001B[39;00m \u001B[38;5;21m_generate_helper\u001B[39m(\n\u001B[1;32m    540\u001B[0m     \u001B[38;5;28mself\u001B[39m,\n\u001B[1;32m    541\u001B[0m     prompts: List[\u001B[38;5;28mstr\u001B[39m],\n\u001B[0;32m   (...)\u001B[0m\n\u001B[1;32m    545\u001B[0m     \u001B[38;5;241m*\u001B[39m\u001B[38;5;241m*\u001B[39mkwargs: Any,\n\u001B[1;32m    546\u001B[0m ) \u001B[38;5;241m-\u001B[39m\u001B[38;5;241m>\u001B[39m LLMResult:\n\u001B[1;32m    547\u001B[0m     \u001B[38;5;28;01mtry\u001B[39;00m:\n\u001B[1;32m    548\u001B[0m         output \u001B[38;5;241m=\u001B[39m (\n\u001B[0;32m--> 549\u001B[0m             \u001B[38;5;28;43mself\u001B[39;49m\u001B[38;5;241;43m.\u001B[39;49m\u001B[43m_generate\u001B[49m\u001B[43m(\u001B[49m\n\u001B[1;32m    550\u001B[0m \u001B[43m                \u001B[49m\u001B[43mprompts\u001B[49m\u001B[43m,\u001B[49m\n\u001B[1;32m    551\u001B[0m \u001B[43m                \u001B[49m\u001B[43mstop\u001B[49m\u001B[38;5;241;43m=\u001B[39;49m\u001B[43mstop\u001B[49m\u001B[43m,\u001B[49m\n\u001B[1;32m    552\u001B[0m \u001B[43m                \u001B[49m\u001B[38;5;66;43;03m# TODO: support multiple run managers\u001B[39;49;00m\n\u001B[1;32m    553\u001B[0m \u001B[43m                \u001B[49m\u001B[43mrun_manager\u001B[49m\u001B[38;5;241;43m=\u001B[39;49m\u001B[43mrun_managers\u001B[49m\u001B[43m[\u001B[49m\u001B[38;5;241;43m0\u001B[39;49m\u001B[43m]\u001B[49m\u001B[43m \u001B[49m\u001B[38;5;28;43;01mif\u001B[39;49;00m\u001B[43m \u001B[49m\u001B[43mrun_managers\u001B[49m\u001B[43m \u001B[49m\u001B[38;5;28;43;01melse\u001B[39;49;00m\u001B[43m \u001B[49m\u001B[38;5;28;43;01mNone\u001B[39;49;00m\u001B[43m,\u001B[49m\n\u001B[1;32m    554\u001B[0m \u001B[43m                \u001B[49m\u001B[38;5;241;43m*\u001B[39;49m\u001B[38;5;241;43m*\u001B[39;49m\u001B[43mkwargs\u001B[49m\u001B[43m,\u001B[49m\n\u001B[1;32m    555\u001B[0m \u001B[43m            \u001B[49m\u001B[43m)\u001B[49m\n\u001B[1;32m    556\u001B[0m             \u001B[38;5;28;01mif\u001B[39;00m new_arg_supported\n\u001B[1;32m    557\u001B[0m             \u001B[38;5;28;01melse\u001B[39;00m \u001B[38;5;28mself\u001B[39m\u001B[38;5;241m.\u001B[39m_generate(prompts, stop\u001B[38;5;241m=\u001B[39mstop)\n\u001B[1;32m    558\u001B[0m         )\n\u001B[1;32m    559\u001B[0m     \u001B[38;5;28;01mexcept\u001B[39;00m \u001B[38;5;167;01mBaseException\u001B[39;00m \u001B[38;5;28;01mas\u001B[39;00m e:\n\u001B[1;32m    560\u001B[0m         \u001B[38;5;28;01mfor\u001B[39;00m run_manager \u001B[38;5;129;01min\u001B[39;00m run_managers:\n",
      "File \u001B[0;32m~/Library/Caches/pypoetry/virtualenvs/formulozze-zQe7B9iH-py3.11/lib/python3.11/site-packages/langchain_core/language_models/llms.py:1134\u001B[0m, in \u001B[0;36mLLM._generate\u001B[0;34m(self, prompts, stop, run_manager, **kwargs)\u001B[0m\n\u001B[1;32m   1131\u001B[0m new_arg_supported \u001B[38;5;241m=\u001B[39m inspect\u001B[38;5;241m.\u001B[39msignature(\u001B[38;5;28mself\u001B[39m\u001B[38;5;241m.\u001B[39m_call)\u001B[38;5;241m.\u001B[39mparameters\u001B[38;5;241m.\u001B[39mget(\u001B[38;5;124m\"\u001B[39m\u001B[38;5;124mrun_manager\u001B[39m\u001B[38;5;124m\"\u001B[39m)\n\u001B[1;32m   1132\u001B[0m \u001B[38;5;28;01mfor\u001B[39;00m prompt \u001B[38;5;129;01min\u001B[39;00m prompts:\n\u001B[1;32m   1133\u001B[0m     text \u001B[38;5;241m=\u001B[39m (\n\u001B[0;32m-> 1134\u001B[0m         \u001B[38;5;28;43mself\u001B[39;49m\u001B[38;5;241;43m.\u001B[39;49m\u001B[43m_call\u001B[49m\u001B[43m(\u001B[49m\u001B[43mprompt\u001B[49m\u001B[43m,\u001B[49m\u001B[43m \u001B[49m\u001B[43mstop\u001B[49m\u001B[38;5;241;43m=\u001B[39;49m\u001B[43mstop\u001B[49m\u001B[43m,\u001B[49m\u001B[43m \u001B[49m\u001B[43mrun_manager\u001B[49m\u001B[38;5;241;43m=\u001B[39;49m\u001B[43mrun_manager\u001B[49m\u001B[43m,\u001B[49m\u001B[43m \u001B[49m\u001B[38;5;241;43m*\u001B[39;49m\u001B[38;5;241;43m*\u001B[39;49m\u001B[43mkwargs\u001B[49m\u001B[43m)\u001B[49m\n\u001B[1;32m   1135\u001B[0m         \u001B[38;5;28;01mif\u001B[39;00m new_arg_supported\n\u001B[1;32m   1136\u001B[0m         \u001B[38;5;28;01melse\u001B[39;00m \u001B[38;5;28mself\u001B[39m\u001B[38;5;241m.\u001B[39m_call(prompt, stop\u001B[38;5;241m=\u001B[39mstop, \u001B[38;5;241m*\u001B[39m\u001B[38;5;241m*\u001B[39mkwargs)\n\u001B[1;32m   1137\u001B[0m     )\n\u001B[1;32m   1138\u001B[0m     generations\u001B[38;5;241m.\u001B[39mappend([Generation(text\u001B[38;5;241m=\u001B[39mtext)])\n\u001B[1;32m   1139\u001B[0m \u001B[38;5;28;01mreturn\u001B[39;00m LLMResult(generations\u001B[38;5;241m=\u001B[39mgenerations)\n",
      "File \u001B[0;32m~/Library/Caches/pypoetry/virtualenvs/formulozze-zQe7B9iH-py3.11/lib/python3.11/site-packages/langchain_community/llms/bedrock.py:708\u001B[0m, in \u001B[0;36mBedrock._call\u001B[0;34m(self, prompt, stop, run_manager, **kwargs)\u001B[0m\n\u001B[1;32m    705\u001B[0m         completion \u001B[38;5;241m+\u001B[39m\u001B[38;5;241m=\u001B[39m chunk\u001B[38;5;241m.\u001B[39mtext\n\u001B[1;32m    706\u001B[0m     \u001B[38;5;28;01mreturn\u001B[39;00m completion\n\u001B[0;32m--> 708\u001B[0m \u001B[38;5;28;01mreturn\u001B[39;00m \u001B[38;5;28;43mself\u001B[39;49m\u001B[38;5;241;43m.\u001B[39;49m\u001B[43m_prepare_input_and_invoke\u001B[49m\u001B[43m(\u001B[49m\n\u001B[1;32m    709\u001B[0m \u001B[43m    \u001B[49m\u001B[43mprompt\u001B[49m\u001B[38;5;241;43m=\u001B[39;49m\u001B[43mprompt\u001B[49m\u001B[43m,\u001B[49m\u001B[43m \u001B[49m\u001B[43mstop\u001B[49m\u001B[38;5;241;43m=\u001B[39;49m\u001B[43mstop\u001B[49m\u001B[43m,\u001B[49m\u001B[43m \u001B[49m\u001B[43mrun_manager\u001B[49m\u001B[38;5;241;43m=\u001B[39;49m\u001B[43mrun_manager\u001B[49m\u001B[43m,\u001B[49m\u001B[43m \u001B[49m\u001B[38;5;241;43m*\u001B[39;49m\u001B[38;5;241;43m*\u001B[39;49m\u001B[43mkwargs\u001B[49m\n\u001B[1;32m    710\u001B[0m \u001B[43m\u001B[49m\u001B[43m)\u001B[49m\n",
      "File \u001B[0;32m~/Library/Caches/pypoetry/virtualenvs/formulozze-zQe7B9iH-py3.11/lib/python3.11/site-packages/langchain_community/llms/bedrock.py:441\u001B[0m, in \u001B[0;36mBedrockBase._prepare_input_and_invoke\u001B[0;34m(self, prompt, stop, run_manager, **kwargs)\u001B[0m\n\u001B[1;32m    436\u001B[0m     text, body \u001B[38;5;241m=\u001B[39m LLMInputOutputAdapter\u001B[38;5;241m.\u001B[39mprepare_output(\n\u001B[1;32m    437\u001B[0m         provider, response\n\u001B[1;32m    438\u001B[0m     )\u001B[38;5;241m.\u001B[39mvalues()\n\u001B[1;32m    440\u001B[0m \u001B[38;5;28;01mexcept\u001B[39;00m \u001B[38;5;167;01mException\u001B[39;00m \u001B[38;5;28;01mas\u001B[39;00m e:\n\u001B[0;32m--> 441\u001B[0m     \u001B[38;5;28;01mraise\u001B[39;00m \u001B[38;5;167;01mValueError\u001B[39;00m(\u001B[38;5;124mf\u001B[39m\u001B[38;5;124m\"\u001B[39m\u001B[38;5;124mError raised by bedrock service: \u001B[39m\u001B[38;5;132;01m{\u001B[39;00me\u001B[38;5;132;01m}\u001B[39;00m\u001B[38;5;124m\"\u001B[39m)\n\u001B[1;32m    443\u001B[0m \u001B[38;5;28;01mif\u001B[39;00m stop \u001B[38;5;129;01mis\u001B[39;00m \u001B[38;5;129;01mnot\u001B[39;00m \u001B[38;5;28;01mNone\u001B[39;00m:\n\u001B[1;32m    444\u001B[0m     text \u001B[38;5;241m=\u001B[39m enforce_stop_tokens(text, stop)\n",
      "\u001B[0;31mValueError\u001B[0m: Error raised by bedrock service: An error occurred (AccessDeniedException) when calling the InvokeModel operation: You don't have access to the model with the specified model ID."
     ]
    }
   ],
   "source": [
    "output = executor_chain.invoke({\"input\": parsed_query, \"formula\": formulas})"
   ],
   "metadata": {
    "collapsed": false,
    "ExecuteTime": {
     "end_time": "2024-01-31T09:39:26.192339Z",
     "start_time": "2024-01-31T09:39:24.950730Z"
    }
   },
   "id": "c287a6dc3010fa5f",
   "execution_count": 25
  },
  {
   "cell_type": "markdown",
   "source": [
    "E questo è il risultato finale, come lo abbiamo richiesto."
   ],
   "metadata": {
    "collapsed": false
   },
   "id": "b57ba9a72d14631e"
  }
 ],
 "metadata": {
  "kernelspec": {
   "display_name": "Python 3 (ipykernel)",
   "language": "python",
   "name": "python3"
  },
  "language_info": {
   "codemirror_mode": {
    "name": "ipython",
    "version": 3
   },
   "file_extension": ".py",
   "mimetype": "text/x-python",
   "name": "python",
   "nbconvert_exporter": "python",
   "pygments_lexer": "ipython3",
   "version": "3.10.9"
  }
 },
 "nbformat": 4,
 "nbformat_minor": 5
}
